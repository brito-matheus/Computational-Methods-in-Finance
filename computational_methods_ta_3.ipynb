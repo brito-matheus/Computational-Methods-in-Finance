{
  "cells": [
    {
      "cell_type": "markdown",
      "metadata": {},
      "source": [
        "---\n",
        "title: \"TA 3 - Simulation Methods in Finance\"\n",
        "author: \"Carrijo de Brito\"\n",
        "date: \"2023-23-03\"\n",
        "format:\n",
        "    html:\n",
        "    code-fold: true\n",
        "    toc: true\n",
        "\n",
        "jupyter: python3\n",
        "---- \n",
        "\n",
        "# Simulation Methods in finance \n",
        "\n",
        "In this file you will find how to price an derivative asset using simulation methods.  \n"
      ],
      "id": "f96de02a"
    },
    {
      "cell_type": "code",
      "metadata": {},
      "source": [
        "import pandas as pd \n",
        "import numpy as np\n",
        "import matplotlib.pyplot as plt \n",
        "import polars as pl "
      ],
      "id": "28030cae",
      "execution_count": null,
      "outputs": []
    }
  ],
  "metadata": {
    "kernelspec": {
      "name": "python3",
      "language": "python",
      "display_name": "Python 3 (ipykernel)"
    }
  },
  "nbformat": 4,
  "nbformat_minor": 5
}