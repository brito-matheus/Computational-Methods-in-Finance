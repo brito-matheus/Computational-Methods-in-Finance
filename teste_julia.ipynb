{
  "cells": [
    {
      "cell_type": "raw",
      "metadata": {},
      "source": [
        "---\n",
        "title: Quarto Basics\n",
        "author: Matheus Carrijo de Brito\n",
        "theme: cosmos\n",
        "format: html\n",
        "---"
      ],
      "id": "edea637e"
    },
    {
      "cell_type": "markdown",
      "metadata": {},
      "source": [
        "# Teste em Julia \n",
        "\n",
        "Plot function pair (x(u), y(u)). \n",
        "See @fig-parametric for an example.\n"
      ],
      "id": "6f6fd37b"
    },
    {
      "cell_type": "code",
      "metadata": {},
      "source": [
        "## Parametric Plots\n",
        "\n",
        "#| label: fig-parametric\n",
        "#| fig-cap: \"Parametric Plots\"\n",
        "\n",
        "using Plots \n",
        "\n",
        "plot(sin, \n",
        "     x->sin(2x), \n",
        "     0, \n",
        "     2π, \n",
        "     leg=false, \n",
        "     fill=(0,:lavender))\n"
      ],
      "id": "3ea941fe",
      "execution_count": null,
      "outputs": []
    },
    {
      "cell_type": "markdown",
      "metadata": {},
      "source": [
        "```"
      ],
      "id": "4446ae05"
    }
  ],
  "metadata": {
    "kernelspec": {
      "name": "julia_vs-1.8",
      "language": "julia",
      "display_name": "julia_vs 1.8.2"
    }
  },
  "nbformat": 4,
  "nbformat_minor": 5
}